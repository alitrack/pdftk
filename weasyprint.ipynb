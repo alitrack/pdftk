{
 "cells": [
  {
   "cell_type": "markdown",
   "source": [
    "# [weasyprint](https://github.com/Kozea/WeasyPrint)"
   ],
   "metadata": {}
  },
  {
   "cell_type": "code",
   "execution_count": 1,
   "source": [
    "#!conda install -c conda-forge -y weasyprint"
   ],
   "outputs": [],
   "metadata": {}
  },
  {
   "cell_type": "markdown",
   "source": [
    "## Command-Line"
   ],
   "metadata": {}
  },
  {
   "cell_type": "code",
   "execution_count": null,
   "source": [
    "!weasyprint http://weasyprint.org weasyprint-website.pdf"
   ],
   "outputs": [],
   "metadata": {}
  },
  {
   "cell_type": "code",
   "execution_count": null,
   "source": [
    "!weasyprint http://weasyprint.org weasyprint-website.pdf \\\n",
    "    -s <(echo 'body { font-family: serif !important }')"
   ],
   "outputs": [],
   "metadata": {}
  },
  {
   "cell_type": "markdown",
   "source": [
    "## Python Library"
   ],
   "metadata": {}
  },
  {
   "cell_type": "markdown",
   "source": [
    "### Quickstart"
   ],
   "metadata": {}
  },
  {
   "cell_type": "code",
   "execution_count": null,
   "source": [
    "from weasyprint import HTML\n",
    "HTML('http://weasyprint.org/').write_pdf('weasyprint-website.pdf')"
   ],
   "outputs": [],
   "metadata": {}
  },
  {
   "cell_type": "code",
   "execution_count": null,
   "source": [
    "from weasyprint import HTML, CSS\n",
    "HTML('http://weasyprint.org/').write_pdf('weasyprint-website.pdf',\n",
    "    stylesheets=[CSS(string='body { font-family: serif !important }')])"
   ],
   "outputs": [],
   "metadata": {}
  }
 ],
 "metadata": {
  "kernelspec": {
   "name": "python3",
   "display_name": "Python 3.9.5 64-bit ('py39': conda)"
  },
  "language_info": {
   "codemirror_mode": {
    "name": "ipython",
    "version": 3
   },
   "file_extension": ".py",
   "mimetype": "text/x-python",
   "name": "python",
   "nbconvert_exporter": "python",
   "pygments_lexer": "ipython3",
   "version": "3.9.5"
  },
  "interpreter": {
   "hash": "00c717beb25546fd03381a52084783f84426ed42369b8ca15a46b9a1f199db72"
  }
 },
 "nbformat": 4,
 "nbformat_minor": 2
}